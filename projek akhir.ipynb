{
 "cells": [
  {
   "attachments": {},
   "cell_type": "markdown",
   "metadata": {},
   "source": [
    "# Proyek Analisis Data: Bike Sharing Dataset\n",
    "- Nama: Ananta Alfallah Tarigan\n",
    "- Email: anantar437471@gmail.com\n",
    "- Id Dicoding: ananta_alfallah"
   ]
  },
  {
   "attachments": {},
   "cell_type": "markdown",
   "metadata": {},
   "source": [
    "## Menentukan Pertanyaan Bisnis"
   ]
  },
  {
   "attachments": {},
   "cell_type": "markdown",
   "metadata": {},
   "source": [
    "- Kapan musim dengan jumlah penyewaan sepeda tertinggi?\n",
    "- Bagaimana faktor lingkungan yang mempengaruhi jumlah penyewaan sepeda bulanan?\n",
    "- Bagaimana pengkategorian jumlah penyewaan sepeda bulanan akibat pengaruh faktor lingkungan?\n",
    "- Bagaimana perbandingan jumlah penyewaan musiman sepeda di hari kerja dan hari libur untuk kedua jenis user?"
   ]
  },
  {
   "attachments": {},
   "cell_type": "markdown",
   "metadata": {},
   "source": [
    "## Menyiapkan semua library yang dibutuhkan"
   ]
  },
  {
   "cell_type": "code",
   "execution_count": 1,
   "metadata": {},
   "outputs": [],
   "source": [
    "import pandas as pd\n",
    "import matplotlib.pyplot as plt\n",
    "import seaborn as sns\n",
    "import streamlit as st\n",
    "from sklearn.cluster import KMeans\n",
    "import scipy.stats as stats\n",
    "import copy\n",
    "sns.set(style='dark')"
   ]
  },
  {
   "attachments": {},
   "cell_type": "markdown",
   "metadata": {},
   "source": [
    "## Data Wrangling"
   ]
  },
  {
   "attachments": {},
   "cell_type": "markdown",
   "metadata": {},
   "source": [
    "### Gathering Data"
   ]
  },
  {
   "cell_type": "markdown",
   "metadata": {},
   "source": [
    "Mengumpulkan data yang dibutuhkan, serta melihat isi data teratas"
   ]
  },
  {
   "cell_type": "code",
   "execution_count": 2,
   "metadata": {},
   "outputs": [
    {
     "data": {
      "text/html": [
       "<div>\n",
       "<style scoped>\n",
       "    .dataframe tbody tr th:only-of-type {\n",
       "        vertical-align: middle;\n",
       "    }\n",
       "\n",
       "    .dataframe tbody tr th {\n",
       "        vertical-align: top;\n",
       "    }\n",
       "\n",
       "    .dataframe thead th {\n",
       "        text-align: right;\n",
       "    }\n",
       "</style>\n",
       "<table border=\"1\" class=\"dataframe\">\n",
       "  <thead>\n",
       "    <tr style=\"text-align: right;\">\n",
       "      <th></th>\n",
       "      <th>instant</th>\n",
       "      <th>dteday</th>\n",
       "      <th>season</th>\n",
       "      <th>yr</th>\n",
       "      <th>mnth</th>\n",
       "      <th>holiday</th>\n",
       "      <th>weekday</th>\n",
       "      <th>workingday</th>\n",
       "      <th>weathersit</th>\n",
       "      <th>temp</th>\n",
       "      <th>atemp</th>\n",
       "      <th>hum</th>\n",
       "      <th>windspeed</th>\n",
       "      <th>casual</th>\n",
       "      <th>registered</th>\n",
       "      <th>cnt</th>\n",
       "    </tr>\n",
       "  </thead>\n",
       "  <tbody>\n",
       "    <tr>\n",
       "      <th>0</th>\n",
       "      <td>1</td>\n",
       "      <td>2011-01-01</td>\n",
       "      <td>1</td>\n",
       "      <td>0</td>\n",
       "      <td>1</td>\n",
       "      <td>0</td>\n",
       "      <td>6</td>\n",
       "      <td>0</td>\n",
       "      <td>2</td>\n",
       "      <td>0.344167</td>\n",
       "      <td>0.363625</td>\n",
       "      <td>0.805833</td>\n",
       "      <td>0.160446</td>\n",
       "      <td>331</td>\n",
       "      <td>654</td>\n",
       "      <td>985</td>\n",
       "    </tr>\n",
       "    <tr>\n",
       "      <th>1</th>\n",
       "      <td>2</td>\n",
       "      <td>2011-01-02</td>\n",
       "      <td>1</td>\n",
       "      <td>0</td>\n",
       "      <td>1</td>\n",
       "      <td>0</td>\n",
       "      <td>0</td>\n",
       "      <td>0</td>\n",
       "      <td>2</td>\n",
       "      <td>0.363478</td>\n",
       "      <td>0.353739</td>\n",
       "      <td>0.696087</td>\n",
       "      <td>0.248539</td>\n",
       "      <td>131</td>\n",
       "      <td>670</td>\n",
       "      <td>801</td>\n",
       "    </tr>\n",
       "    <tr>\n",
       "      <th>2</th>\n",
       "      <td>3</td>\n",
       "      <td>2011-01-03</td>\n",
       "      <td>1</td>\n",
       "      <td>0</td>\n",
       "      <td>1</td>\n",
       "      <td>0</td>\n",
       "      <td>1</td>\n",
       "      <td>1</td>\n",
       "      <td>1</td>\n",
       "      <td>0.196364</td>\n",
       "      <td>0.189405</td>\n",
       "      <td>0.437273</td>\n",
       "      <td>0.248309</td>\n",
       "      <td>120</td>\n",
       "      <td>1229</td>\n",
       "      <td>1349</td>\n",
       "    </tr>\n",
       "    <tr>\n",
       "      <th>3</th>\n",
       "      <td>4</td>\n",
       "      <td>2011-01-04</td>\n",
       "      <td>1</td>\n",
       "      <td>0</td>\n",
       "      <td>1</td>\n",
       "      <td>0</td>\n",
       "      <td>2</td>\n",
       "      <td>1</td>\n",
       "      <td>1</td>\n",
       "      <td>0.200000</td>\n",
       "      <td>0.212122</td>\n",
       "      <td>0.590435</td>\n",
       "      <td>0.160296</td>\n",
       "      <td>108</td>\n",
       "      <td>1454</td>\n",
       "      <td>1562</td>\n",
       "    </tr>\n",
       "    <tr>\n",
       "      <th>4</th>\n",
       "      <td>5</td>\n",
       "      <td>2011-01-05</td>\n",
       "      <td>1</td>\n",
       "      <td>0</td>\n",
       "      <td>1</td>\n",
       "      <td>0</td>\n",
       "      <td>3</td>\n",
       "      <td>1</td>\n",
       "      <td>1</td>\n",
       "      <td>0.226957</td>\n",
       "      <td>0.229270</td>\n",
       "      <td>0.436957</td>\n",
       "      <td>0.186900</td>\n",
       "      <td>82</td>\n",
       "      <td>1518</td>\n",
       "      <td>1600</td>\n",
       "    </tr>\n",
       "  </tbody>\n",
       "</table>\n",
       "</div>"
      ],
      "text/plain": [
       "   instant      dteday  season  yr  mnth  holiday  weekday  workingday  \\\n",
       "0        1  2011-01-01       1   0     1        0        6           0   \n",
       "1        2  2011-01-02       1   0     1        0        0           0   \n",
       "2        3  2011-01-03       1   0     1        0        1           1   \n",
       "3        4  2011-01-04       1   0     1        0        2           1   \n",
       "4        5  2011-01-05       1   0     1        0        3           1   \n",
       "\n",
       "   weathersit      temp     atemp       hum  windspeed  casual  registered  \\\n",
       "0           2  0.344167  0.363625  0.805833   0.160446     331         654   \n",
       "1           2  0.363478  0.353739  0.696087   0.248539     131         670   \n",
       "2           1  0.196364  0.189405  0.437273   0.248309     120        1229   \n",
       "3           1  0.200000  0.212122  0.590435   0.160296     108        1454   \n",
       "4           1  0.226957  0.229270  0.436957   0.186900      82        1518   \n",
       "\n",
       "    cnt  \n",
       "0   985  \n",
       "1   801  \n",
       "2  1349  \n",
       "3  1562  \n",
       "4  1600  "
      ]
     },
     "execution_count": 2,
     "metadata": {},
     "output_type": "execute_result"
    }
   ],
   "source": [
    "day_df = pd.read_csv(\"day.csv\")\n",
    "day_df.head(5)"
   ]
  },
  {
   "attachments": {},
   "cell_type": "markdown",
   "metadata": {},
   "source": [
    "### Assessing Data"
   ]
  },
  {
   "cell_type": "markdown",
   "metadata": {},
   "source": [
    "Menilai kualitas dari data yang akan digunakan. Penilaian ini bertujuan untuk melihat berbagai permasalahan yang ada dalam data tersebut. Seperti tipe kolom, adanya kosong/NA/Null, adanya duplikat, dll"
   ]
  },
  {
   "cell_type": "code",
   "execution_count": 3,
   "metadata": {},
   "outputs": [
    {
     "name": "stdout",
     "output_type": "stream",
     "text": [
      "<class 'pandas.core.frame.DataFrame'>\n",
      "RangeIndex: 731 entries, 0 to 730\n",
      "Data columns (total 16 columns):\n",
      " #   Column      Non-Null Count  Dtype  \n",
      "---  ------      --------------  -----  \n",
      " 0   instant     731 non-null    int64  \n",
      " 1   dteday      731 non-null    object \n",
      " 2   season      731 non-null    int64  \n",
      " 3   yr          731 non-null    int64  \n",
      " 4   mnth        731 non-null    int64  \n",
      " 5   holiday     731 non-null    int64  \n",
      " 6   weekday     731 non-null    int64  \n",
      " 7   workingday  731 non-null    int64  \n",
      " 8   weathersit  731 non-null    int64  \n",
      " 9   temp        731 non-null    float64\n",
      " 10  atemp       731 non-null    float64\n",
      " 11  hum         731 non-null    float64\n",
      " 12  windspeed   731 non-null    float64\n",
      " 13  casual      731 non-null    int64  \n",
      " 14  registered  731 non-null    int64  \n",
      " 15  cnt         731 non-null    int64  \n",
      "dtypes: float64(4), int64(11), object(1)\n",
      "memory usage: 91.5+ KB\n"
     ]
    }
   ],
   "source": [
    "day_df.info() #kolom dteday masih bertipe object, nilai di semua kolom sama, dan tiap kolom tidak mempunyai null"
   ]
  },
  {
   "cell_type": "markdown",
   "metadata": {},
   "source": [
    "Mencoba mengetahui jumlah Na dan jumlah duplikat dalam data"
   ]
  },
  {
   "cell_type": "code",
   "execution_count": 4,
   "metadata": {},
   "outputs": [
    {
     "name": "stdout",
     "output_type": "stream",
     "text": [
      "Jumlah na:  instant       0\n",
      "dteday        0\n",
      "season        0\n",
      "yr            0\n",
      "mnth          0\n",
      "holiday       0\n",
      "weekday       0\n",
      "workingday    0\n",
      "weathersit    0\n",
      "temp          0\n",
      "atemp         0\n",
      "hum           0\n",
      "windspeed     0\n",
      "casual        0\n",
      "registered    0\n",
      "cnt           0\n",
      "dtype: int64\n",
      "Jumlah duplikasi:  0\n"
     ]
    }
   ],
   "source": [
    "print('Jumlah na: ', day_df.isna().sum())\n",
    "print(\"Jumlah duplikasi: \", day_df.duplicated().sum())"
   ]
  },
  {
   "cell_type": "markdown",
   "metadata": {},
   "source": [
    "Melihat nilai statistik dalam data, untuk menemukan kejanggalan seperti, nili max/min yang terlalu tinggi/rendah (pencilan)"
   ]
  },
  {
   "cell_type": "code",
   "execution_count": 5,
   "metadata": {},
   "outputs": [
    {
     "data": {
      "text/html": [
       "<div>\n",
       "<style scoped>\n",
       "    .dataframe tbody tr th:only-of-type {\n",
       "        vertical-align: middle;\n",
       "    }\n",
       "\n",
       "    .dataframe tbody tr th {\n",
       "        vertical-align: top;\n",
       "    }\n",
       "\n",
       "    .dataframe thead th {\n",
       "        text-align: right;\n",
       "    }\n",
       "</style>\n",
       "<table border=\"1\" class=\"dataframe\">\n",
       "  <thead>\n",
       "    <tr style=\"text-align: right;\">\n",
       "      <th></th>\n",
       "      <th>instant</th>\n",
       "      <th>season</th>\n",
       "      <th>yr</th>\n",
       "      <th>mnth</th>\n",
       "      <th>holiday</th>\n",
       "      <th>weekday</th>\n",
       "      <th>workingday</th>\n",
       "      <th>weathersit</th>\n",
       "      <th>temp</th>\n",
       "      <th>atemp</th>\n",
       "      <th>hum</th>\n",
       "      <th>windspeed</th>\n",
       "      <th>casual</th>\n",
       "      <th>registered</th>\n",
       "      <th>cnt</th>\n",
       "    </tr>\n",
       "  </thead>\n",
       "  <tbody>\n",
       "    <tr>\n",
       "      <th>count</th>\n",
       "      <td>731.000000</td>\n",
       "      <td>731.000000</td>\n",
       "      <td>731.000000</td>\n",
       "      <td>731.000000</td>\n",
       "      <td>731.000000</td>\n",
       "      <td>731.000000</td>\n",
       "      <td>731.000000</td>\n",
       "      <td>731.000000</td>\n",
       "      <td>731.000000</td>\n",
       "      <td>731.000000</td>\n",
       "      <td>731.000000</td>\n",
       "      <td>731.000000</td>\n",
       "      <td>731.000000</td>\n",
       "      <td>731.000000</td>\n",
       "      <td>731.000000</td>\n",
       "    </tr>\n",
       "    <tr>\n",
       "      <th>mean</th>\n",
       "      <td>366.000000</td>\n",
       "      <td>2.496580</td>\n",
       "      <td>0.500684</td>\n",
       "      <td>6.519836</td>\n",
       "      <td>0.028728</td>\n",
       "      <td>2.997264</td>\n",
       "      <td>0.683995</td>\n",
       "      <td>1.395349</td>\n",
       "      <td>0.495385</td>\n",
       "      <td>0.474354</td>\n",
       "      <td>0.627894</td>\n",
       "      <td>0.190486</td>\n",
       "      <td>848.176471</td>\n",
       "      <td>3656.172367</td>\n",
       "      <td>4504.348837</td>\n",
       "    </tr>\n",
       "    <tr>\n",
       "      <th>std</th>\n",
       "      <td>211.165812</td>\n",
       "      <td>1.110807</td>\n",
       "      <td>0.500342</td>\n",
       "      <td>3.451913</td>\n",
       "      <td>0.167155</td>\n",
       "      <td>2.004787</td>\n",
       "      <td>0.465233</td>\n",
       "      <td>0.544894</td>\n",
       "      <td>0.183051</td>\n",
       "      <td>0.162961</td>\n",
       "      <td>0.142429</td>\n",
       "      <td>0.077498</td>\n",
       "      <td>686.622488</td>\n",
       "      <td>1560.256377</td>\n",
       "      <td>1937.211452</td>\n",
       "    </tr>\n",
       "    <tr>\n",
       "      <th>min</th>\n",
       "      <td>1.000000</td>\n",
       "      <td>1.000000</td>\n",
       "      <td>0.000000</td>\n",
       "      <td>1.000000</td>\n",
       "      <td>0.000000</td>\n",
       "      <td>0.000000</td>\n",
       "      <td>0.000000</td>\n",
       "      <td>1.000000</td>\n",
       "      <td>0.059130</td>\n",
       "      <td>0.079070</td>\n",
       "      <td>0.000000</td>\n",
       "      <td>0.022392</td>\n",
       "      <td>2.000000</td>\n",
       "      <td>20.000000</td>\n",
       "      <td>22.000000</td>\n",
       "    </tr>\n",
       "    <tr>\n",
       "      <th>25%</th>\n",
       "      <td>183.500000</td>\n",
       "      <td>2.000000</td>\n",
       "      <td>0.000000</td>\n",
       "      <td>4.000000</td>\n",
       "      <td>0.000000</td>\n",
       "      <td>1.000000</td>\n",
       "      <td>0.000000</td>\n",
       "      <td>1.000000</td>\n",
       "      <td>0.337083</td>\n",
       "      <td>0.337842</td>\n",
       "      <td>0.520000</td>\n",
       "      <td>0.134950</td>\n",
       "      <td>315.500000</td>\n",
       "      <td>2497.000000</td>\n",
       "      <td>3152.000000</td>\n",
       "    </tr>\n",
       "    <tr>\n",
       "      <th>50%</th>\n",
       "      <td>366.000000</td>\n",
       "      <td>3.000000</td>\n",
       "      <td>1.000000</td>\n",
       "      <td>7.000000</td>\n",
       "      <td>0.000000</td>\n",
       "      <td>3.000000</td>\n",
       "      <td>1.000000</td>\n",
       "      <td>1.000000</td>\n",
       "      <td>0.498333</td>\n",
       "      <td>0.486733</td>\n",
       "      <td>0.626667</td>\n",
       "      <td>0.180975</td>\n",
       "      <td>713.000000</td>\n",
       "      <td>3662.000000</td>\n",
       "      <td>4548.000000</td>\n",
       "    </tr>\n",
       "    <tr>\n",
       "      <th>75%</th>\n",
       "      <td>548.500000</td>\n",
       "      <td>3.000000</td>\n",
       "      <td>1.000000</td>\n",
       "      <td>10.000000</td>\n",
       "      <td>0.000000</td>\n",
       "      <td>5.000000</td>\n",
       "      <td>1.000000</td>\n",
       "      <td>2.000000</td>\n",
       "      <td>0.655417</td>\n",
       "      <td>0.608602</td>\n",
       "      <td>0.730209</td>\n",
       "      <td>0.233214</td>\n",
       "      <td>1096.000000</td>\n",
       "      <td>4776.500000</td>\n",
       "      <td>5956.000000</td>\n",
       "    </tr>\n",
       "    <tr>\n",
       "      <th>max</th>\n",
       "      <td>731.000000</td>\n",
       "      <td>4.000000</td>\n",
       "      <td>1.000000</td>\n",
       "      <td>12.000000</td>\n",
       "      <td>1.000000</td>\n",
       "      <td>6.000000</td>\n",
       "      <td>1.000000</td>\n",
       "      <td>3.000000</td>\n",
       "      <td>0.861667</td>\n",
       "      <td>0.840896</td>\n",
       "      <td>0.972500</td>\n",
       "      <td>0.507463</td>\n",
       "      <td>3410.000000</td>\n",
       "      <td>6946.000000</td>\n",
       "      <td>8714.000000</td>\n",
       "    </tr>\n",
       "  </tbody>\n",
       "</table>\n",
       "</div>"
      ],
      "text/plain": [
       "          instant      season          yr        mnth     holiday     weekday  \\\n",
       "count  731.000000  731.000000  731.000000  731.000000  731.000000  731.000000   \n",
       "mean   366.000000    2.496580    0.500684    6.519836    0.028728    2.997264   \n",
       "std    211.165812    1.110807    0.500342    3.451913    0.167155    2.004787   \n",
       "min      1.000000    1.000000    0.000000    1.000000    0.000000    0.000000   \n",
       "25%    183.500000    2.000000    0.000000    4.000000    0.000000    1.000000   \n",
       "50%    366.000000    3.000000    1.000000    7.000000    0.000000    3.000000   \n",
       "75%    548.500000    3.000000    1.000000   10.000000    0.000000    5.000000   \n",
       "max    731.000000    4.000000    1.000000   12.000000    1.000000    6.000000   \n",
       "\n",
       "       workingday  weathersit        temp       atemp         hum   windspeed  \\\n",
       "count  731.000000  731.000000  731.000000  731.000000  731.000000  731.000000   \n",
       "mean     0.683995    1.395349    0.495385    0.474354    0.627894    0.190486   \n",
       "std      0.465233    0.544894    0.183051    0.162961    0.142429    0.077498   \n",
       "min      0.000000    1.000000    0.059130    0.079070    0.000000    0.022392   \n",
       "25%      0.000000    1.000000    0.337083    0.337842    0.520000    0.134950   \n",
       "50%      1.000000    1.000000    0.498333    0.486733    0.626667    0.180975   \n",
       "75%      1.000000    2.000000    0.655417    0.608602    0.730209    0.233214   \n",
       "max      1.000000    3.000000    0.861667    0.840896    0.972500    0.507463   \n",
       "\n",
       "            casual   registered          cnt  \n",
       "count   731.000000   731.000000   731.000000  \n",
       "mean    848.176471  3656.172367  4504.348837  \n",
       "std     686.622488  1560.256377  1937.211452  \n",
       "min       2.000000    20.000000    22.000000  \n",
       "25%     315.500000  2497.000000  3152.000000  \n",
       "50%     713.000000  3662.000000  4548.000000  \n",
       "75%    1096.000000  4776.500000  5956.000000  \n",
       "max    3410.000000  6946.000000  8714.000000  "
      ]
     },
     "execution_count": 5,
     "metadata": {},
     "output_type": "execute_result"
    }
   ],
   "source": [
    "day_df.describe()"
   ]
  },
  {
   "attachments": {},
   "cell_type": "markdown",
   "metadata": {},
   "source": [
    "### Cleaning Data"
   ]
  },
  {
   "cell_type": "markdown",
   "metadata": {},
   "source": [
    "#Membersihkan data tersebut sehingga siap untuk dianalisis. #dteday masih dlm type object, dan menghilangkan beberapa kolom yang kurang relevan"
   ]
  },
  {
   "cell_type": "code",
   "execution_count": 6,
   "metadata": {},
   "outputs": [],
   "source": [
    "tipe_tanggal = ['dteday']\n",
    "for i in tipe_tanggal:\n",
    "    day_df[i] = pd.to_datetime(day_df[i])\n",
    "day_df.drop(columns=['instant','yr','holiday','weathersit'],axis=1,inplace=True)"
   ]
  },
  {
   "attachments": {},
   "cell_type": "markdown",
   "metadata": {},
   "source": [
    "## Exploratory Data Analysis (EDA)"
   ]
  },
  {
   "attachments": {},
   "cell_type": "markdown",
   "metadata": {},
   "source": [
    "### Explore ..."
   ]
  },
  {
   "cell_type": "code",
   "execution_count": 7,
   "metadata": {},
   "outputs": [
    {
     "data": {
      "text/html": [
       "<div>\n",
       "<style scoped>\n",
       "    .dataframe tbody tr th:only-of-type {\n",
       "        vertical-align: middle;\n",
       "    }\n",
       "\n",
       "    .dataframe tbody tr th {\n",
       "        vertical-align: top;\n",
       "    }\n",
       "\n",
       "    .dataframe thead th {\n",
       "        text-align: right;\n",
       "    }\n",
       "</style>\n",
       "<table border=\"1\" class=\"dataframe\">\n",
       "  <thead>\n",
       "    <tr style=\"text-align: right;\">\n",
       "      <th></th>\n",
       "      <th>dteday</th>\n",
       "      <th>season</th>\n",
       "      <th>mnth</th>\n",
       "      <th>weekday</th>\n",
       "      <th>workingday</th>\n",
       "      <th>temp</th>\n",
       "      <th>atemp</th>\n",
       "      <th>hum</th>\n",
       "      <th>windspeed</th>\n",
       "      <th>casual</th>\n",
       "      <th>registered</th>\n",
       "      <th>cnt</th>\n",
       "    </tr>\n",
       "  </thead>\n",
       "  <tbody>\n",
       "    <tr>\n",
       "      <th>count</th>\n",
       "      <td>731</td>\n",
       "      <td>731.000000</td>\n",
       "      <td>731.000000</td>\n",
       "      <td>731.000000</td>\n",
       "      <td>731.000000</td>\n",
       "      <td>731.000000</td>\n",
       "      <td>731.000000</td>\n",
       "      <td>731.000000</td>\n",
       "      <td>731.000000</td>\n",
       "      <td>731.000000</td>\n",
       "      <td>731.000000</td>\n",
       "      <td>731.000000</td>\n",
       "    </tr>\n",
       "    <tr>\n",
       "      <th>mean</th>\n",
       "      <td>2012-01-01 00:00:00</td>\n",
       "      <td>2.496580</td>\n",
       "      <td>6.519836</td>\n",
       "      <td>2.997264</td>\n",
       "      <td>0.683995</td>\n",
       "      <td>0.495385</td>\n",
       "      <td>0.474354</td>\n",
       "      <td>0.627894</td>\n",
       "      <td>0.190486</td>\n",
       "      <td>848.176471</td>\n",
       "      <td>3656.172367</td>\n",
       "      <td>4504.348837</td>\n",
       "    </tr>\n",
       "    <tr>\n",
       "      <th>min</th>\n",
       "      <td>2011-01-01 00:00:00</td>\n",
       "      <td>1.000000</td>\n",
       "      <td>1.000000</td>\n",
       "      <td>0.000000</td>\n",
       "      <td>0.000000</td>\n",
       "      <td>0.059130</td>\n",
       "      <td>0.079070</td>\n",
       "      <td>0.000000</td>\n",
       "      <td>0.022392</td>\n",
       "      <td>2.000000</td>\n",
       "      <td>20.000000</td>\n",
       "      <td>22.000000</td>\n",
       "    </tr>\n",
       "    <tr>\n",
       "      <th>25%</th>\n",
       "      <td>2011-07-02 12:00:00</td>\n",
       "      <td>2.000000</td>\n",
       "      <td>4.000000</td>\n",
       "      <td>1.000000</td>\n",
       "      <td>0.000000</td>\n",
       "      <td>0.337083</td>\n",
       "      <td>0.337842</td>\n",
       "      <td>0.520000</td>\n",
       "      <td>0.134950</td>\n",
       "      <td>315.500000</td>\n",
       "      <td>2497.000000</td>\n",
       "      <td>3152.000000</td>\n",
       "    </tr>\n",
       "    <tr>\n",
       "      <th>50%</th>\n",
       "      <td>2012-01-01 00:00:00</td>\n",
       "      <td>3.000000</td>\n",
       "      <td>7.000000</td>\n",
       "      <td>3.000000</td>\n",
       "      <td>1.000000</td>\n",
       "      <td>0.498333</td>\n",
       "      <td>0.486733</td>\n",
       "      <td>0.626667</td>\n",
       "      <td>0.180975</td>\n",
       "      <td>713.000000</td>\n",
       "      <td>3662.000000</td>\n",
       "      <td>4548.000000</td>\n",
       "    </tr>\n",
       "    <tr>\n",
       "      <th>75%</th>\n",
       "      <td>2012-07-01 12:00:00</td>\n",
       "      <td>3.000000</td>\n",
       "      <td>10.000000</td>\n",
       "      <td>5.000000</td>\n",
       "      <td>1.000000</td>\n",
       "      <td>0.655417</td>\n",
       "      <td>0.608602</td>\n",
       "      <td>0.730209</td>\n",
       "      <td>0.233214</td>\n",
       "      <td>1096.000000</td>\n",
       "      <td>4776.500000</td>\n",
       "      <td>5956.000000</td>\n",
       "    </tr>\n",
       "    <tr>\n",
       "      <th>max</th>\n",
       "      <td>2012-12-31 00:00:00</td>\n",
       "      <td>4.000000</td>\n",
       "      <td>12.000000</td>\n",
       "      <td>6.000000</td>\n",
       "      <td>1.000000</td>\n",
       "      <td>0.861667</td>\n",
       "      <td>0.840896</td>\n",
       "      <td>0.972500</td>\n",
       "      <td>0.507463</td>\n",
       "      <td>3410.000000</td>\n",
       "      <td>6946.000000</td>\n",
       "      <td>8714.000000</td>\n",
       "    </tr>\n",
       "    <tr>\n",
       "      <th>std</th>\n",
       "      <td>NaN</td>\n",
       "      <td>1.110807</td>\n",
       "      <td>3.451913</td>\n",
       "      <td>2.004787</td>\n",
       "      <td>0.465233</td>\n",
       "      <td>0.183051</td>\n",
       "      <td>0.162961</td>\n",
       "      <td>0.142429</td>\n",
       "      <td>0.077498</td>\n",
       "      <td>686.622488</td>\n",
       "      <td>1560.256377</td>\n",
       "      <td>1937.211452</td>\n",
       "    </tr>\n",
       "  </tbody>\n",
       "</table>\n",
       "</div>"
      ],
      "text/plain": [
       "                    dteday      season        mnth     weekday  workingday  \\\n",
       "count                  731  731.000000  731.000000  731.000000  731.000000   \n",
       "mean   2012-01-01 00:00:00    2.496580    6.519836    2.997264    0.683995   \n",
       "min    2011-01-01 00:00:00    1.000000    1.000000    0.000000    0.000000   \n",
       "25%    2011-07-02 12:00:00    2.000000    4.000000    1.000000    0.000000   \n",
       "50%    2012-01-01 00:00:00    3.000000    7.000000    3.000000    1.000000   \n",
       "75%    2012-07-01 12:00:00    3.000000   10.000000    5.000000    1.000000   \n",
       "max    2012-12-31 00:00:00    4.000000   12.000000    6.000000    1.000000   \n",
       "std                    NaN    1.110807    3.451913    2.004787    0.465233   \n",
       "\n",
       "             temp       atemp         hum   windspeed       casual  \\\n",
       "count  731.000000  731.000000  731.000000  731.000000   731.000000   \n",
       "mean     0.495385    0.474354    0.627894    0.190486   848.176471   \n",
       "min      0.059130    0.079070    0.000000    0.022392     2.000000   \n",
       "25%      0.337083    0.337842    0.520000    0.134950   315.500000   \n",
       "50%      0.498333    0.486733    0.626667    0.180975   713.000000   \n",
       "75%      0.655417    0.608602    0.730209    0.233214  1096.000000   \n",
       "max      0.861667    0.840896    0.972500    0.507463  3410.000000   \n",
       "std      0.183051    0.162961    0.142429    0.077498   686.622488   \n",
       "\n",
       "        registered          cnt  \n",
       "count   731.000000   731.000000  \n",
       "mean   3656.172367  4504.348837  \n",
       "min      20.000000    22.000000  \n",
       "25%    2497.000000  3152.000000  \n",
       "50%    3662.000000  4548.000000  \n",
       "75%    4776.500000  5956.000000  \n",
       "max    6946.000000  8714.000000  \n",
       "std    1560.256377  1937.211452  "
      ]
     },
     "execution_count": 7,
     "metadata": {},
     "output_type": "execute_result"
    }
   ],
   "source": [
    "day_df.describe(include=\"all\") #angka-angka statistik di seluruh kolom terlihat wajar"
   ]
  },
  {
   "cell_type": "markdown",
   "metadata": {},
   "source": [
    "Mencoba melakukan pengelompokan dengan groupby, berdasarkan musimnya untuk mendapat informasi"
   ]
  },
  {
   "cell_type": "code",
   "execution_count": 8,
   "metadata": {},
   "outputs": [
    {
     "data": {
      "text/html": [
       "<div>\n",
       "<style scoped>\n",
       "    .dataframe tbody tr th:only-of-type {\n",
       "        vertical-align: middle;\n",
       "    }\n",
       "\n",
       "    .dataframe tbody tr th {\n",
       "        vertical-align: top;\n",
       "    }\n",
       "\n",
       "    .dataframe thead tr th {\n",
       "        text-align: left;\n",
       "    }\n",
       "\n",
       "    .dataframe thead tr:last-of-type th {\n",
       "        text-align: right;\n",
       "    }\n",
       "</style>\n",
       "<table border=\"1\" class=\"dataframe\">\n",
       "  <thead>\n",
       "    <tr>\n",
       "      <th></th>\n",
       "      <th colspan=\"4\" halign=\"left\">casual</th>\n",
       "      <th colspan=\"4\" halign=\"left\">registered</th>\n",
       "      <th colspan=\"4\" halign=\"left\">cnt</th>\n",
       "    </tr>\n",
       "    <tr>\n",
       "      <th></th>\n",
       "      <th>max</th>\n",
       "      <th>min</th>\n",
       "      <th>mean</th>\n",
       "      <th>sum</th>\n",
       "      <th>max</th>\n",
       "      <th>min</th>\n",
       "      <th>mean</th>\n",
       "      <th>sum</th>\n",
       "      <th>max</th>\n",
       "      <th>min</th>\n",
       "      <th>mean</th>\n",
       "      <th>sum</th>\n",
       "    </tr>\n",
       "    <tr>\n",
       "      <th>season</th>\n",
       "      <th></th>\n",
       "      <th></th>\n",
       "      <th></th>\n",
       "      <th></th>\n",
       "      <th></th>\n",
       "      <th></th>\n",
       "      <th></th>\n",
       "      <th></th>\n",
       "      <th></th>\n",
       "      <th></th>\n",
       "      <th></th>\n",
       "      <th></th>\n",
       "    </tr>\n",
       "  </thead>\n",
       "  <tbody>\n",
       "    <tr>\n",
       "      <th>1</th>\n",
       "      <td>3155</td>\n",
       "      <td>9</td>\n",
       "      <td>334.928177</td>\n",
       "      <td>60622</td>\n",
       "      <td>5315</td>\n",
       "      <td>416</td>\n",
       "      <td>2269.204420</td>\n",
       "      <td>410726</td>\n",
       "      <td>7836</td>\n",
       "      <td>431</td>\n",
       "      <td>2604.132597</td>\n",
       "      <td>471348</td>\n",
       "    </tr>\n",
       "    <tr>\n",
       "      <th>2</th>\n",
       "      <td>3410</td>\n",
       "      <td>120</td>\n",
       "      <td>1106.097826</td>\n",
       "      <td>203522</td>\n",
       "      <td>6456</td>\n",
       "      <td>674</td>\n",
       "      <td>3886.233696</td>\n",
       "      <td>715067</td>\n",
       "      <td>8362</td>\n",
       "      <td>795</td>\n",
       "      <td>4992.331522</td>\n",
       "      <td>918589</td>\n",
       "    </tr>\n",
       "    <tr>\n",
       "      <th>3</th>\n",
       "      <td>3160</td>\n",
       "      <td>118</td>\n",
       "      <td>1202.611702</td>\n",
       "      <td>226091</td>\n",
       "      <td>6917</td>\n",
       "      <td>889</td>\n",
       "      <td>4441.691489</td>\n",
       "      <td>835038</td>\n",
       "      <td>8714</td>\n",
       "      <td>1115</td>\n",
       "      <td>5644.303191</td>\n",
       "      <td>1061129</td>\n",
       "    </tr>\n",
       "    <tr>\n",
       "      <th>4</th>\n",
       "      <td>3031</td>\n",
       "      <td>2</td>\n",
       "      <td>729.112360</td>\n",
       "      <td>129782</td>\n",
       "      <td>6946</td>\n",
       "      <td>20</td>\n",
       "      <td>3999.050562</td>\n",
       "      <td>711831</td>\n",
       "      <td>8555</td>\n",
       "      <td>22</td>\n",
       "      <td>4728.162921</td>\n",
       "      <td>841613</td>\n",
       "    </tr>\n",
       "  </tbody>\n",
       "</table>\n",
       "</div>"
      ],
      "text/plain": [
       "       casual                           registered                            \\\n",
       "          max  min         mean     sum        max  min         mean     sum   \n",
       "season                                                                         \n",
       "1        3155    9   334.928177   60622       5315  416  2269.204420  410726   \n",
       "2        3410  120  1106.097826  203522       6456  674  3886.233696  715067   \n",
       "3        3160  118  1202.611702  226091       6917  889  4441.691489  835038   \n",
       "4        3031    2   729.112360  129782       6946   20  3999.050562  711831   \n",
       "\n",
       "         cnt                              \n",
       "         max   min         mean      sum  \n",
       "season                                    \n",
       "1       7836   431  2604.132597   471348  \n",
       "2       8362   795  4992.331522   918589  \n",
       "3       8714  1115  5644.303191  1061129  \n",
       "4       8555    22  4728.162921   841613  "
      ]
     },
     "execution_count": 8,
     "metadata": {},
     "output_type": "execute_result"
    }
   ],
   "source": [
    "day_df.groupby(by=\"season\").agg({\n",
    "    \"casual\": [\"max\", \"min\", \"mean\",'sum'],\n",
    "    \"registered\": [\"max\", \"min\", \"mean\",'sum'], 'cnt':[\"max\", \"min\", \"mean\",'sum']\n",
    "})\n",
    "\n",
    "#Mencoba mengetahui nilai penyewaan di ke empat musim, baik untuk casual maupun registered user"
   ]
  },
  {
   "cell_type": "code",
   "execution_count": 9,
   "metadata": {},
   "outputs": [
    {
     "data": {
      "text/html": [
       "<div>\n",
       "<style scoped>\n",
       "    .dataframe tbody tr th:only-of-type {\n",
       "        vertical-align: middle;\n",
       "    }\n",
       "\n",
       "    .dataframe tbody tr th {\n",
       "        vertical-align: top;\n",
       "    }\n",
       "\n",
       "    .dataframe thead th {\n",
       "        text-align: right;\n",
       "    }\n",
       "</style>\n",
       "<table border=\"1\" class=\"dataframe\">\n",
       "  <thead>\n",
       "    <tr style=\"text-align: right;\">\n",
       "      <th></th>\n",
       "      <th></th>\n",
       "      <th>casual</th>\n",
       "      <th>registered</th>\n",
       "      <th>cnt</th>\n",
       "    </tr>\n",
       "    <tr>\n",
       "      <th>season</th>\n",
       "      <th>workingday</th>\n",
       "      <th></th>\n",
       "      <th></th>\n",
       "      <th></th>\n",
       "    </tr>\n",
       "  </thead>\n",
       "  <tbody>\n",
       "    <tr>\n",
       "      <th rowspan=\"2\" valign=\"top\">1</th>\n",
       "      <th>0</th>\n",
       "      <td>32400</td>\n",
       "      <td>105283</td>\n",
       "      <td>137683</td>\n",
       "    </tr>\n",
       "    <tr>\n",
       "      <th>1</th>\n",
       "      <td>28222</td>\n",
       "      <td>305443</td>\n",
       "      <td>333665</td>\n",
       "    </tr>\n",
       "    <tr>\n",
       "      <th rowspan=\"2\" valign=\"top\">2</th>\n",
       "      <th>0</th>\n",
       "      <td>105693</td>\n",
       "      <td>182283</td>\n",
       "      <td>287976</td>\n",
       "    </tr>\n",
       "    <tr>\n",
       "      <th>1</th>\n",
       "      <td>97829</td>\n",
       "      <td>532784</td>\n",
       "      <td>630613</td>\n",
       "    </tr>\n",
       "    <tr>\n",
       "      <th rowspan=\"2\" valign=\"top\">3</th>\n",
       "      <th>0</th>\n",
       "      <td>107345</td>\n",
       "      <td>204711</td>\n",
       "      <td>312056</td>\n",
       "    </tr>\n",
       "    <tr>\n",
       "      <th>1</th>\n",
       "      <td>118746</td>\n",
       "      <td>630327</td>\n",
       "      <td>749073</td>\n",
       "    </tr>\n",
       "    <tr>\n",
       "      <th rowspan=\"2\" valign=\"top\">4</th>\n",
       "      <th>0</th>\n",
       "      <td>71294</td>\n",
       "      <td>191260</td>\n",
       "      <td>262554</td>\n",
       "    </tr>\n",
       "    <tr>\n",
       "      <th>1</th>\n",
       "      <td>58488</td>\n",
       "      <td>520571</td>\n",
       "      <td>579059</td>\n",
       "    </tr>\n",
       "  </tbody>\n",
       "</table>\n",
       "</div>"
      ],
      "text/plain": [
       "                   casual  registered     cnt\n",
       "season workingday                            \n",
       "1      0            32400      105283  137683\n",
       "       1            28222      305443  333665\n",
       "2      0           105693      182283  287976\n",
       "       1            97829      532784  630613\n",
       "3      0           107345      204711  312056\n",
       "       1           118746      630327  749073\n",
       "4      0            71294      191260  262554\n",
       "       1            58488      520571  579059"
      ]
     },
     "execution_count": 9,
     "metadata": {},
     "output_type": "execute_result"
    }
   ],
   "source": [
    "day_df.groupby(by=[\"season\",'workingday']).agg({\n",
    "    \"casual\": 'sum',\n",
    "    \"registered\": 'sum', 'cnt':'sum'\n",
    "})\n",
    "#Mencoba mengetahui nilai penyewaan di ke empat musim untuk hari kerja dan hari libur (termasuk weekend), baik untuk casual maupun registered user"
   ]
  },
  {
   "cell_type": "markdown",
   "metadata": {},
   "source": [
    "Mencoba mengkorelasikan berbagai nilai di tiap-tiap kolom"
   ]
  },
  {
   "cell_type": "code",
   "execution_count": 10,
   "metadata": {},
   "outputs": [
    {
     "data": {
      "text/html": [
       "<div>\n",
       "<style scoped>\n",
       "    .dataframe tbody tr th:only-of-type {\n",
       "        vertical-align: middle;\n",
       "    }\n",
       "\n",
       "    .dataframe tbody tr th {\n",
       "        vertical-align: top;\n",
       "    }\n",
       "\n",
       "    .dataframe thead th {\n",
       "        text-align: right;\n",
       "    }\n",
       "</style>\n",
       "<table border=\"1\" class=\"dataframe\">\n",
       "  <thead>\n",
       "    <tr style=\"text-align: right;\">\n",
       "      <th></th>\n",
       "      <th>temp</th>\n",
       "      <th>atemp</th>\n",
       "      <th>hum</th>\n",
       "      <th>windspeed</th>\n",
       "      <th>casual</th>\n",
       "      <th>registered</th>\n",
       "      <th>cnt</th>\n",
       "    </tr>\n",
       "  </thead>\n",
       "  <tbody>\n",
       "    <tr>\n",
       "      <th>temp</th>\n",
       "      <td>1.000000</td>\n",
       "      <td>0.991702</td>\n",
       "      <td>0.126963</td>\n",
       "      <td>-0.157944</td>\n",
       "      <td>0.543285</td>\n",
       "      <td>0.540012</td>\n",
       "      <td>0.627494</td>\n",
       "    </tr>\n",
       "    <tr>\n",
       "      <th>atemp</th>\n",
       "      <td>0.991702</td>\n",
       "      <td>1.000000</td>\n",
       "      <td>0.139988</td>\n",
       "      <td>-0.183643</td>\n",
       "      <td>0.543864</td>\n",
       "      <td>0.544192</td>\n",
       "      <td>0.631066</td>\n",
       "    </tr>\n",
       "    <tr>\n",
       "      <th>hum</th>\n",
       "      <td>0.126963</td>\n",
       "      <td>0.139988</td>\n",
       "      <td>1.000000</td>\n",
       "      <td>-0.248489</td>\n",
       "      <td>-0.077008</td>\n",
       "      <td>-0.091089</td>\n",
       "      <td>-0.100659</td>\n",
       "    </tr>\n",
       "    <tr>\n",
       "      <th>windspeed</th>\n",
       "      <td>-0.157944</td>\n",
       "      <td>-0.183643</td>\n",
       "      <td>-0.248489</td>\n",
       "      <td>1.000000</td>\n",
       "      <td>-0.167613</td>\n",
       "      <td>-0.217449</td>\n",
       "      <td>-0.234545</td>\n",
       "    </tr>\n",
       "    <tr>\n",
       "      <th>casual</th>\n",
       "      <td>0.543285</td>\n",
       "      <td>0.543864</td>\n",
       "      <td>-0.077008</td>\n",
       "      <td>-0.167613</td>\n",
       "      <td>1.000000</td>\n",
       "      <td>0.395282</td>\n",
       "      <td>0.672804</td>\n",
       "    </tr>\n",
       "    <tr>\n",
       "      <th>registered</th>\n",
       "      <td>0.540012</td>\n",
       "      <td>0.544192</td>\n",
       "      <td>-0.091089</td>\n",
       "      <td>-0.217449</td>\n",
       "      <td>0.395282</td>\n",
       "      <td>1.000000</td>\n",
       "      <td>0.945517</td>\n",
       "    </tr>\n",
       "    <tr>\n",
       "      <th>cnt</th>\n",
       "      <td>0.627494</td>\n",
       "      <td>0.631066</td>\n",
       "      <td>-0.100659</td>\n",
       "      <td>-0.234545</td>\n",
       "      <td>0.672804</td>\n",
       "      <td>0.945517</td>\n",
       "      <td>1.000000</td>\n",
       "    </tr>\n",
       "  </tbody>\n",
       "</table>\n",
       "</div>"
      ],
      "text/plain": [
       "                temp     atemp       hum  windspeed    casual  registered  \\\n",
       "temp        1.000000  0.991702  0.126963  -0.157944  0.543285    0.540012   \n",
       "atemp       0.991702  1.000000  0.139988  -0.183643  0.543864    0.544192   \n",
       "hum         0.126963  0.139988  1.000000  -0.248489 -0.077008   -0.091089   \n",
       "windspeed  -0.157944 -0.183643 -0.248489   1.000000 -0.167613   -0.217449   \n",
       "casual      0.543285  0.543864 -0.077008  -0.167613  1.000000    0.395282   \n",
       "registered  0.540012  0.544192 -0.091089  -0.217449  0.395282    1.000000   \n",
       "cnt         0.627494  0.631066 -0.100659  -0.234545  0.672804    0.945517   \n",
       "\n",
       "                 cnt  \n",
       "temp        0.627494  \n",
       "atemp       0.631066  \n",
       "hum        -0.100659  \n",
       "windspeed  -0.234545  \n",
       "casual      0.672804  \n",
       "registered  0.945517  \n",
       "cnt         1.000000  "
      ]
     },
     "execution_count": 10,
     "metadata": {},
     "output_type": "execute_result"
    }
   ],
   "source": [
    "day_df[['temp', 'atemp','hum', 'windspeed', 'casual', 'registered', 'cnt']].corr(numeric_only=True)\n",
    "#casual dan registered memiliki korelasi sekitar 0.4, sehingga kenaikan salah satunya belum tentu kenaikan yang lainnya\n",
    "\n",
    "#Komponen iklim/lingkungan rataan atemp memiliki korelasi cukup tinggi, sebesar 0.6 dengan jumlah total cnt"
   ]
  },
  {
   "cell_type": "markdown",
   "metadata": {},
   "source": [
    "Mencoba mengelompokan data berdasarkan musim, untuk mengetahui nilai feeling temprature"
   ]
  },
  {
   "cell_type": "code",
   "execution_count": 11,
   "metadata": {},
   "outputs": [
    {
     "data": {
      "text/html": [
       "<div>\n",
       "<style scoped>\n",
       "    .dataframe tbody tr th:only-of-type {\n",
       "        vertical-align: middle;\n",
       "    }\n",
       "\n",
       "    .dataframe tbody tr th {\n",
       "        vertical-align: top;\n",
       "    }\n",
       "\n",
       "    .dataframe thead th {\n",
       "        text-align: right;\n",
       "    }\n",
       "</style>\n",
       "<table border=\"1\" class=\"dataframe\">\n",
       "  <thead>\n",
       "    <tr style=\"text-align: right;\">\n",
       "      <th></th>\n",
       "      <th>cnt</th>\n",
       "      <th>atemp</th>\n",
       "    </tr>\n",
       "    <tr>\n",
       "      <th>season</th>\n",
       "      <th></th>\n",
       "      <th></th>\n",
       "    </tr>\n",
       "  </thead>\n",
       "  <tbody>\n",
       "    <tr>\n",
       "      <th>1</th>\n",
       "      <td>471348</td>\n",
       "      <td>0.296914</td>\n",
       "    </tr>\n",
       "    <tr>\n",
       "      <th>2</th>\n",
       "      <td>918589</td>\n",
       "      <td>0.520307</td>\n",
       "    </tr>\n",
       "    <tr>\n",
       "      <th>3</th>\n",
       "      <td>1061129</td>\n",
       "      <td>0.655898</td>\n",
       "    </tr>\n",
       "    <tr>\n",
       "      <th>4</th>\n",
       "      <td>841613</td>\n",
       "      <td>0.415539</td>\n",
       "    </tr>\n",
       "  </tbody>\n",
       "</table>\n",
       "</div>"
      ],
      "text/plain": [
       "            cnt     atemp\n",
       "season                   \n",
       "1        471348  0.296914\n",
       "2        918589  0.520307\n",
       "3       1061129  0.655898\n",
       "4        841613  0.415539"
      ]
     },
     "execution_count": 11,
     "metadata": {},
     "output_type": "execute_result"
    }
   ],
   "source": [
    "day_df.groupby(by=\"season\").agg({ 'cnt':'sum','atemp': 'mean'})\n",
    "#kenaikan rataan feeling tempratur terlihat bersesuaian dengan kenaikan jumlah penyewaan sepeda"
   ]
  },
  {
   "cell_type": "markdown",
   "metadata": {},
   "source": [
    "Mencoba mengetahui jumlah penyewaan sepeda bulanan dan hubungannya dengan feeling temprature rataan bulan tersebut"
   ]
  },
  {
   "cell_type": "code",
   "execution_count": 12,
   "metadata": {},
   "outputs": [
    {
     "data": {
      "text/html": [
       "<div>\n",
       "<style scoped>\n",
       "    .dataframe tbody tr th:only-of-type {\n",
       "        vertical-align: middle;\n",
       "    }\n",
       "\n",
       "    .dataframe tbody tr th {\n",
       "        vertical-align: top;\n",
       "    }\n",
       "\n",
       "    .dataframe thead th {\n",
       "        text-align: right;\n",
       "    }\n",
       "</style>\n",
       "<table border=\"1\" class=\"dataframe\">\n",
       "  <thead>\n",
       "    <tr style=\"text-align: right;\">\n",
       "      <th></th>\n",
       "      <th>cnt</th>\n",
       "      <th>atemp</th>\n",
       "    </tr>\n",
       "    <tr>\n",
       "      <th>mnth</th>\n",
       "      <th></th>\n",
       "      <th></th>\n",
       "    </tr>\n",
       "  </thead>\n",
       "  <tbody>\n",
       "    <tr>\n",
       "      <th>1</th>\n",
       "      <td>134933</td>\n",
       "      <td>0.239796</td>\n",
       "    </tr>\n",
       "    <tr>\n",
       "      <th>2</th>\n",
       "      <td>151352</td>\n",
       "      <td>0.299731</td>\n",
       "    </tr>\n",
       "    <tr>\n",
       "      <th>3</th>\n",
       "      <td>228920</td>\n",
       "      <td>0.381954</td>\n",
       "    </tr>\n",
       "    <tr>\n",
       "      <th>4</th>\n",
       "      <td>269094</td>\n",
       "      <td>0.457081</td>\n",
       "    </tr>\n",
       "    <tr>\n",
       "      <th>5</th>\n",
       "      <td>331686</td>\n",
       "      <td>0.565662</td>\n",
       "    </tr>\n",
       "    <tr>\n",
       "      <th>6</th>\n",
       "      <td>346342</td>\n",
       "      <td>0.638246</td>\n",
       "    </tr>\n",
       "    <tr>\n",
       "      <th>7</th>\n",
       "      <td>344948</td>\n",
       "      <td>0.704094</td>\n",
       "    </tr>\n",
       "    <tr>\n",
       "      <th>8</th>\n",
       "      <td>351194</td>\n",
       "      <td>0.651475</td>\n",
       "    </tr>\n",
       "    <tr>\n",
       "      <th>9</th>\n",
       "      <td>345991</td>\n",
       "      <td>0.579299</td>\n",
       "    </tr>\n",
       "    <tr>\n",
       "      <th>10</th>\n",
       "      <td>322352</td>\n",
       "      <td>0.471973</td>\n",
       "    </tr>\n",
       "    <tr>\n",
       "      <th>11</th>\n",
       "      <td>254831</td>\n",
       "      <td>0.367359</td>\n",
       "    </tr>\n",
       "    <tr>\n",
       "      <th>12</th>\n",
       "      <td>211036</td>\n",
       "      <td>0.326160</td>\n",
       "    </tr>\n",
       "  </tbody>\n",
       "</table>\n",
       "</div>"
      ],
      "text/plain": [
       "         cnt     atemp\n",
       "mnth                  \n",
       "1     134933  0.239796\n",
       "2     151352  0.299731\n",
       "3     228920  0.381954\n",
       "4     269094  0.457081\n",
       "5     331686  0.565662\n",
       "6     346342  0.638246\n",
       "7     344948  0.704094\n",
       "8     351194  0.651475\n",
       "9     345991  0.579299\n",
       "10    322352  0.471973\n",
       "11    254831  0.367359\n",
       "12    211036  0.326160"
      ]
     },
     "execution_count": 12,
     "metadata": {},
     "output_type": "execute_result"
    }
   ],
   "source": [
    "day_df.groupby(by=\"mnth\").agg({ 'cnt':'sum','atemp': 'mean'})\n",
    "#kenaikan feeling tempratur juga terlihat bersesuaian dengan kenaikan jumlah penyewaan sepeda bulanan"
   ]
  },
  {
   "attachments": {},
   "cell_type": "markdown",
   "metadata": {},
   "source": [
    "## Visualization & Explanatory Analysis"
   ]
  },
  {
   "cell_type": "markdown",
   "metadata": {},
   "source": [
    "### Pertanyaan 1: "
   ]
  },
  {
   "cell_type": "markdown",
   "metadata": {},
   "source": [
    "Melakukan visualisasi jumlah total penyewaan sepeda untuk tiap musimnya"
   ]
  },
  {
   "cell_type": "code",
   "execution_count": 13,
   "metadata": {},
   "outputs": [
    {
     "name": "stderr",
     "output_type": "stream",
     "text": [
      "C:\\Users\\kocak\\AppData\\Local\\Temp\\ipykernel_19656\\3535813357.py:18: FutureWarning: \n",
      "\n",
      "Passing `palette` without assigning `hue` is deprecated and will be removed in v0.14.0. Assign the `x` variable to `hue` and set `legend=False` for the same effect.\n",
      "\n",
      "  sns.barplot(\n"
     ]
    },
    {
     "data": {
      "image/png": "[encoded data removed]",
      "text/plain": [
       "<Figure size 640x480 with 1 Axes>"
      ]
     },
     "metadata": {},
     "output_type": "display_data"
    }
   ],
   "source": [
    "seasonal_orders_df = day_df.groupby(by='season').agg({'cnt':'sum','atemp':'mean'}).reset_index()\n",
    "\n",
    "seasonal_orders_df.rename(columns={\"cnt\": \"rent_count\",'atemp':'feeling temperature'}, inplace=True)\n",
    "\n",
    "def num_to_season(x):\n",
    "    if x == 1:\n",
    "        return \"Springer\"\n",
    "    elif x == 2:\n",
    "        return \"Summer\"\n",
    "    elif x == 3:\n",
    "        return \"Fall\"\n",
    "    elif x == 4:\n",
    "        return \"Winter\"\n",
    "seasonal_orders_df['season'] = seasonal_orders_df['season'].apply(num_to_season)\n",
    "\n",
    "colors = [\"#D3D3D3\", \"#D3D3D3\", \"#72BCD4\", \"#D3D3D3\"]\n",
    "\n",
    "sns.barplot(\n",
    "    x=\"season\", \n",
    "    y=\"rent_count\",\n",
    "    data=seasonal_orders_df,\n",
    "    palette=colors,\n",
    "\n",
    ")\n",
    "plt.title(\"Number of Customer by Season\", loc=\"center\", fontsize=15)\n",
    "plt.ylabel(None)\n",
    "plt.xlabel(None)\n",
    "plt.tick_params(axis='y', labelsize=10)\n",
    "plt.ticklabel_format(style='plain', axis='y')\n",
    "\n",
    "plt.show()\n",
    "\n",
    "\n",
    "\n"
   ]
  },
  {
   "cell_type": "markdown",
   "metadata": {},
   "source": [
    "Melakukan visualisasi rataan feeling temprature untuk tiap musimnya, sehingga bisa mengetahui kecocokannya dengan visualisasi jumlah penyewa total"
   ]
  },
  {
   "cell_type": "code",
   "execution_count": 14,
   "metadata": {},
   "outputs": [
    {
     "data": {
      "image/png": "[encoded data removed]",
      "text/plain": [
       "<Figure size 640x480 with 1 Axes>"
      ]
     },
     "metadata": {},
     "output_type": "display_data"
    }
   ],
   "source": [
    "plt.plot(\n",
    "    seasonal_orders_df[\"season\"],\n",
    "    seasonal_orders_df[\"feeling temperature\"],\n",
    "    marker='o', \n",
    "    linewidth=2,\n",
    "    color=\"#72BCD4\",\n",
    ")\n",
    "plt.title(\"Feeling Temperature by Season\", loc=\"center\", fontsize=15)\n",
    "plt.xticks(fontsize=10)\n",
    "plt.yticks(fontsize=10)\n",
    "plt.ticklabel_format(style='plain', axis='y')\n",
    "plt.tick_params(axis='y', labelsize=12)\n",
    "plt.ylim(0, 0.7)\n",
    "\n",
    "plt.show()\n",
    "#Dari visualisasi ini dapat dilihat bahwa faktor lingkungan, feeling temprature, sangat bersesuaian dengan jumlah total penyewa di tiap musimnya"
   ]
  },
  {
   "cell_type": "markdown",
   "metadata": {},
   "source": [
    "### Pertanyaan 2: "
   ]
  },
  {
   "cell_type": "markdown",
   "metadata": {},
   "source": [
    "Melakukan visualisasi jumlah penyewaan sepeda total bulanan"
   ]
  },
  {
   "cell_type": "code",
   "execution_count": 15,
   "metadata": {},
   "outputs": [
    {
     "data": {
      "image/png": "[encoded data removed]",
      "text/plain": [
       "<Figure size 640x480 with 1 Axes>"
      ]
     },
     "metadata": {},
     "output_type": "display_data"
    }
   ],
   "source": [
    "monthly_orders_df = day_df.groupby(by='mnth').agg({'cnt':'sum','atemp':'mean'}).reset_index()\n",
    "\n",
    "monthly_orders_df.rename(columns={\"cnt\": \"rent_count\",'atemp':'feeling_temperature'}, inplace=True)\n",
    "\n",
    "def num_to_month(x):\n",
    "    if x == 1:\n",
    "        return \"Jan\"\n",
    "    elif x == 2:\n",
    "        return \"Feb\"\n",
    "    elif x == 3:\n",
    "        return \"Mar\"\n",
    "    elif x == 4:\n",
    "        return \"Apr\"\n",
    "    elif x == 5:\n",
    "        return \"Mei\"\n",
    "    elif x == 6:\n",
    "        return \"Jun\"\n",
    "    elif x == 7:\n",
    "        return \"Jul\"\n",
    "    elif x == 8:\n",
    "        return \"Agu\"\n",
    "    elif x == 9:\n",
    "        return \"Sep\"\n",
    "    elif x == 10:\n",
    "        return \"Okt\"\n",
    "    elif x == 11:\n",
    "        return \"Nov\"\n",
    "    elif x == 12:\n",
    "        return \"Des\"\n",
    "monthly_orders_df['mnth'] = monthly_orders_df['mnth'].apply(num_to_month)\n",
    "\n",
    "sns.barplot(\n",
    "    x=\"mnth\", \n",
    "    y=\"rent_count\",\n",
    "    data=monthly_orders_df,\n",
    "\n",
    ")\n",
    "plt.title(\"Number of Customer by Month\", loc=\"center\", fontsize=15)\n",
    "plt.ylabel(None)\n",
    "plt.xlabel(None)\n",
    "plt.tick_params(axis='y', labelsize=10)\n",
    "plt.ticklabel_format(style='plain', axis='y')\n",
    "\n",
    "plt.show()"
   ]
  },
  {
   "cell_type": "markdown",
   "metadata": {},
   "source": [
    "Melakukan visualisasi rataan feeling temprature di tiap bulannya, untuk mencocokan kembali dengan jumlah total bulanan"
   ]
  },
  {
   "cell_type": "code",
   "execution_count": 16,
   "metadata": {},
   "outputs": [
    {
     "data": {
      "image/png": "[encoded data removed]",
      "text/plain": [
       "<Figure size 640x480 with 1 Axes>"
      ]
     },
     "metadata": {},
     "output_type": "display_data"
    }
   ],
   "source": [
    "plt.plot(\n",
    "    monthly_orders_df[\"mnth\"],\n",
    "    monthly_orders_df[\"feeling_temperature\"],\n",
    "    marker='o', \n",
    "    linewidth=2,\n",
    ")\n",
    "plt.title(\"Feeling Temperature by Month\", loc=\"center\", fontsize=15)\n",
    "plt.xticks(fontsize=10)\n",
    "plt.yticks(fontsize=10)\n",
    "plt.ticklabel_format(style='plain', axis='y')\n",
    "plt.tick_params(axis='y', labelsize=12)\n",
    "plt.ylim(0, 0.8)\n",
    "\n",
    "plt.show()\n",
    "\n",
    "#Dari visualisasi ini dapat dilihat kembali bahwa faktor lingkungan, rataan feeling temprature, cukup bersesuaian dengan jumlah total penyewa sepeda"
   ]
  },
  {
   "cell_type": "markdown",
   "metadata": {},
   "source": [
    "Membuat visualisasi dari hubungan antara rataan feeling temprature dan jumlah penyewaan sepeda bulanan"
   ]
  },
  {
   "cell_type": "code",
   "execution_count": 17,
   "metadata": {},
   "outputs": [
    {
     "name": "stdout",
     "output_type": "stream",
     "text": [
      "Persamaan Regressi:  y = 481205.79x + 46505.74\n",
      "Nilai R-Square:  0.8810012344538424\n"
     ]
    },
    {
     "data": {
      "text/plain": [
       "Text(0.5, 1.0, 'Feeling Temprature vs. Rent Count Monthly')"
      ]
     },
     "execution_count": 17,
     "metadata": {},
     "output_type": "execute_result"
    },
    {
     "data": {
      "image/png": "[encoded data removed]",
      "text/plain": [
       "<Figure size 640x480 with 1 Axes>"
      ]
     },
     "metadata": {},
     "output_type": "display_data"
    }
   ],
   "source": [
    "\n",
    "slope, intercept, r_value, p_value, std_err = stats.linregress(monthly_orders_df['feeling_temperature'], monthly_orders_df['rent_count'])\n",
    "\n",
    "equation = f'y = {slope:.2f}x + {intercept:.2f}'\n",
    "print('Persamaan Regressi: ', equation)\n",
    "\n",
    "r_squared = r_value**2\n",
    "print('Nilai R-Square: ',r_squared)\n",
    "\n",
    "sns.regplot(x='feeling_temperature', y='rent_count', data=monthly_orders_df)\n",
    "plt.title('Feeling Temprature vs. Rent Count Monthly')\n",
    "\n",
    "# Dari visualisasi ini, diketahui bahwa nilai R-Square yang cukup tinggi di angka 0.88, sehingga model ini cukup cocok menangkap hubungan antar variabel\n",
    "# Serta menunjukan bahwa sebagian besar variasi variabel terikat (rent_count) dapat diprediksi oleh variabel bebas (feeling temprature)\n",
    "# Dapat disimpulkan bahwa semakin rendah feeling temprature maka jumlah penjualan bulanan akan semakin rendah pula\n"
   ]
  },
  {
   "cell_type": "markdown",
   "metadata": {},
   "source": [
    "### Pertanyaan 3: "
   ]
  },
  {
   "cell_type": "markdown",
   "metadata": {},
   "source": [
    "Clustering menggunakan K-Means"
   ]
  },
  {
   "cell_type": "markdown",
   "metadata": {},
   "source": [
    "Setelah mengetahui bahwa feeling temprature bulanan dapat memprediksi jumlah penyewa bulanan, maka selanjutnya kita akan mengelompokannya menjadi 3 kategori menggunakan algoritma K-Means"
   ]
  },
  {
   "cell_type": "code",
   "execution_count": 18,
   "metadata": {},
   "outputs": [
    {
     "name": "stderr",
     "output_type": "stream",
     "text": [
      "C:\\Users\\kocak\\AppData\\Local\\Packages\\PythonSoftwareFoundation.Python.3.11_qbz5n2kfra8p0\\LocalCache\\local-packages\\Python311\\site-packages\\sklearn\\cluster\\_kmeans.py:1416: FutureWarning: The default value of `n_init` will change from 10 to 'auto' in 1.4. Set the value of `n_init` explicitly to suppress the warning\n",
      "  super()._check_params_vs_input(X, default_n_init=10)\n"
     ]
    }
   ],
   "source": [
    "monthly_orders_df2 = day_df.groupby(by='mnth').agg({'cnt':'sum','atemp':'mean'}).reset_index()  #mengembalikan format bulan ke angka (seperti awal)\n",
    "monthly_orders_df2.rename(columns={\"cnt\": \"rent_count\",'atemp':'feeling_temperature'}, inplace=True)\n",
    "\n",
    "X= copy.copy(monthly_orders_df2)\n",
    "\n",
    "kmeans = KMeans(n_clusters=3,random_state=1)\n",
    "\n",
    "X[\"Cluster\"] = kmeans.fit_predict(X)\n",
    "X[\"Cluster\"] = X[\"Cluster\"].astype(\"category\")\n",
    "\n",
    "X['Cluster'].replace([2], 'Low', inplace=True)\n",
    "X['Cluster'].replace([1], 'Mid', inplace=True)\n",
    "X['Cluster'].replace([0], 'High', inplace=True)"
   ]
  },
  {
   "cell_type": "markdown",
   "metadata": {},
   "source": [
    "Melakukan visualisasi scatter plot berdasarkan pengkategorian yang telah dibuat dengan algoritma K-Means"
   ]
  },
  {
   "cell_type": "code",
   "execution_count": 19,
   "metadata": {},
   "outputs": [
    {
     "data": {
      "text/plain": [
       "<matplotlib.legend.Legend at 0x1ec81ac1fd0>"
      ]
     },
     "execution_count": 19,
     "metadata": {},
     "output_type": "execute_result"
    },
    {
     "data": {
      "image/png": "[encoded data removed]",
      "text/plain": [
       "<Figure size 640x480 with 1 Axes>"
      ]
     },
     "metadata": {},
     "output_type": "display_data"
    }
   ],
   "source": [
    "g = sns.scatterplot(data=X, \n",
    "                x=\"feeling_temperature\", \n",
    "                y=\"rent_count\", \n",
    "                hue=\"Cluster\",  \n",
    "                )\n",
    "\n",
    "handler, label = g.get_legend_handles_labels()\n",
    "label[0], label[2] = label[2], label[0]\n",
    "handler[0], handler[2] = handler[2], handler[0]\n",
    "g.legend(handler, label)\n",
    "#Dari sini kita dapat melihat bagaimana kategori jumlah penjualan berdasarkan rataan feeling tempraturen di tiap bulan"
   ]
  },
  {
   "cell_type": "markdown",
   "metadata": {},
   "source": [
    "### Pertanyaan 4: "
   ]
  },
  {
   "cell_type": "markdown",
   "metadata": {},
   "source": [
    "Selanjutnya akan melakukan visualisasi untuk perbandingan antara hari kerja dan non-kerja (mencakup hari libur dan weekend)"
   ]
  },
  {
   "cell_type": "code",
   "execution_count": 20,
   "metadata": {},
   "outputs": [],
   "source": [
    "day_df2 = copy.copy(day_df)"
   ]
  },
  {
   "cell_type": "markdown",
   "metadata": {},
   "source": [
    "Mengelompokan jumlah casual dan registered user berdasarkan musim dan kategori working day (0: hari libur, 1: hari kerja)"
   ]
  },
  {
   "cell_type": "code",
   "execution_count": 21,
   "metadata": {},
   "outputs": [],
   "source": [
    "seasonal_df = day_df2.groupby(by=['season','workingday']).agg({'casual':'sum','registered':'sum','cnt':'sum'})\n",
    "seasonal_df.rename(columns={\"cnt\": \"Rent_Total\",'casual':'Casual_Users','registered':'Registered_Users'}, inplace=True)\n",
    "\n",
    "work_day_df = seasonal_df.drop(index=0, level=1).reset_index() #menghilangkan hari libur dari index df level 1\n",
    "no_work_day_df = seasonal_df.drop(index=1, level=1).reset_index() #menghilangkan hari kerja dari index df level 1"
   ]
  },
  {
   "cell_type": "markdown",
   "metadata": {},
   "source": [
    "Memvisualisasikan jumlah penyewaan sepeda musiman untuk casual users dan registered users"
   ]
  },
  {
   "cell_type": "code",
   "execution_count": 22,
   "metadata": {},
   "outputs": [
    {
     "data": {
      "text/plain": [
       "<function matplotlib.pyplot.show(close=None, block=None)>"
      ]
     },
     "execution_count": 22,
     "metadata": {},
     "output_type": "execute_result"
    },
    {
     "data": {
      "image/png": "[encoded data removed]",
      "text/plain": [
       "<Figure size 4200x1400 with 2 Axes>"
      ]
     },
     "metadata": {},
     "output_type": "display_data"
    }
   ],
   "source": [
    "fig, ax = plt.subplots(nrows=1, ncols=2, figsize=(42, 14))\n",
    "\n",
    "sns.set(style=\"whitegrid\")\n",
    "\n",
    "xs = [\"Springer\", \"Springer\", \"Summer\", \"Summer\", \"Fall\", \"Fall\", \"Winter\", \"Winter\"]\n",
    "hue = [\"Casual_Users\", \"Registered_Users\"] * 4\n",
    "\n",
    "def casual_registered_num(x):\n",
    "    list_ys=[]\n",
    "    for i in range(len(x)):\n",
    "        a = x.iloc[i]['Casual_Users']\n",
    "        b = x.iloc[i]['Registered_Users']\n",
    "        list_ys.append(a)\n",
    "        list_ys.append(b)\n",
    "    return list_ys\n",
    "\n",
    "ys_1 = casual_registered_num(work_day_df)\n",
    "ys_2 = casual_registered_num(no_work_day_df)\n",
    "\n",
    "sns.barplot(x=xs, y=ys_1, hue=hue, ax=ax[0])\n",
    "ax[0].set_ylabel(None)\n",
    "ax[0].set_xlabel(None)\n",
    "ax[0].set_title(\"Work Day\", loc=\"center\", fontsize=30)\n",
    "ax[0].tick_params(axis ='y', labelsize=20)\n",
    "ax[0].tick_params(axis ='x', labelsize=23)\n",
    "ax[0].set_ylim(0, 700000)\n",
    "ax[0].legend(loc='upper left',fontsize=25,)\n",
    "\n",
    "sns.barplot(x=xs, y=ys_2, hue=hue, ax=ax[1])\n",
    "ax[1].set_ylabel(None)\n",
    "ax[1].set_xlabel(None)\n",
    "ax[1].set_title(\"Weekend and Holiday\", loc=\"center\", fontsize=30)\n",
    "ax[1].tick_params(axis='y', labelsize=20)\n",
    "ax[1].tick_params(axis ='x', labelsize=23)\n",
    "ax[1].set_ylim(0, 700000)\n",
    "ax[1].legend(loc='upper left',fontsize=25,)\n",
    "\n",
    "plt.show\n"
   ]
  },
  {
   "cell_type": "markdown",
   "metadata": {},
   "source": [
    "Selanjutnya melakukan visualisasi untuk membandingkan banyaknya penyewa sepeda antara casual users dan registered users"
   ]
  },
  {
   "cell_type": "code",
   "execution_count": 23,
   "metadata": {},
   "outputs": [
    {
     "data": {
      "text/plain": [
       "<function matplotlib.pyplot.show(close=None, block=None)>"
      ]
     },
     "execution_count": 23,
     "metadata": {},
     "output_type": "execute_result"
    },
    {
     "data": {
      "image/png": "[encoded data removed]",
      "text/plain": [
       "<Figure size 640x480 with 1 Axes>"
      ]
     },
     "metadata": {},
     "output_type": "display_data"
    }
   ],
   "source": [
    "category = (\"Casual_Users\", \"Registered_Users\")\n",
    "\n",
    "total_casual_no_work = no_work_day_df.Casual_Users.sum()\n",
    "total_registered_no_work = no_work_day_df.Registered_Users.sum()\n",
    "jumlah_no_work = (total_casual_no_work, total_registered_no_work)\n",
    "\n",
    "total_casual_work = work_day_df.Casual_Users.sum()\n",
    "total_registered_work = work_day_df.Registered_Users.sum()\n",
    "jumlah_work = (total_casual_work, total_registered_work)\n",
    "\n",
    "plt.pie(x=jumlah_work,labels=category,autopct='%1.1f%%')\n",
    "plt.title(\"Work Day\", loc=\"center\", fontsize=20)\n",
    "\n",
    "plt.show"
   ]
  },
  {
   "cell_type": "code",
   "execution_count": 24,
   "metadata": {},
   "outputs": [
    {
     "data": {
      "text/plain": [
       "<function matplotlib.pyplot.show(close=None, block=None)>"
      ]
     },
     "execution_count": 24,
     "metadata": {},
     "output_type": "execute_result"
    },
    {
     "data": {
      "image/png": "[encoded data removed]",
      "text/plain": [
       "<Figure size 640x480 with 1 Axes>"
      ]
     },
     "metadata": {},
     "output_type": "display_data"
    }
   ],
   "source": [
    "plt.pie(x=jumlah_no_work,labels=category,autopct='%1.1f%%')\n",
    "plt.title(\"Weekend and Holiday\", loc=\"center\", fontsize=20)\n",
    "\n",
    "plt.show"
   ]
  },
  {
   "attachments": {},
   "cell_type": "markdown",
   "metadata": {},
   "source": [
    "## Conclusion"
   ]
  },
  {
   "attachments": {},
   "cell_type": "markdown",
   "metadata": {},
   "source": [
    "- Conclusion pertanyaan 1:\n",
    "Musim penyewaan sepeda tertinggi secara keseluruhan berada pada musim summer, dimana pada musim tersebut juga merupakan musim dengan feeling temprature rataan tertinggi\n",
    "\n",
    "- Conclusion pertanyaan 2:\n",
    "Faktor lingkungan mempengaruhi jumlah penyewaan sepeda bulanan lewat pengaruh feeling tempraturenya, diamana dengan kenaikan feeling temprature membuat penyewaan sepeda akan meningkat, begitupun sebaliknya.\n",
    "\n",
    "- Conclusion pertanyaan 3:\n",
    "Pengkategorian jumlah penyewaan bulanan akibat pengaruh faktor lingkungan (feeling temprature), menghasilkan bulan berkategori penyewaan rendah di awal tahun (Jun, Feb), Bulan berkategori penyewaan sedang di awal-tengah tahun dan akhir tahun (Mar, Apr, Nov, Des), serta bulan berkategori penyewaan tinggi di pertengahan tahun (Mei, Jun, Jul, Agu, Sep, Okt)\n",
    "\n",
    "- Conclusion pertanyaan 4:\n",
    "Secara keseluruhan jumlah penyewaan sepeda pada hari kerja selalu lebih tinggi dari pada hari non-kerja di tiap musimnya. Pada hari-hari kerja total penyewa sepeda untuk registered user sebesar 86.8% dan casual user sebesar 13.2%. Sedangkan untuk hari non-kerja (hari libur dan weekend), untuk registered user sebesar 68.3% dan casual user sebesar 31.7%. Hal ini menunjukan dominansi penyewa merupakan registered user yang menyewa sepeda terutama pada hari-hari kerja, dan sebagiannya akan tidak melakukan penyewaan pada hari libur."
   ]
  }
 ],
 "metadata": {
  "kernelspec": {
   "display_name": "Python 3",
   "language": "python",
   "name": "python3"
  },
  "language_info": {
   "codemirror_mode": {
    "name": "ipython",
    "version": 3
   },
   "file_extension": ".py",
   "mimetype": "text/x-python",
   "name": "python",
   "nbconvert_exporter": "python",
   "pygments_lexer": "ipython3",
   "version": "3.11.5"
  },
  "orig_nbformat": 4,
  "vscode": {
   "interpreter": {
    "hash": "972b3bf27e332e87b5379f2791f6ef9dfc79c71018c370b0d7423235e20fe4d7"
   }
  }
 },
 "nbformat": 4,
 "nbformat_minor": 2
}
